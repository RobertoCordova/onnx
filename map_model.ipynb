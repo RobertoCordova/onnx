{
 "metadata": {
  "language_info": {
   "codemirror_mode": {
    "name": "ipython",
    "version": 3
   },
   "file_extension": ".py",
   "mimetype": "text/x-python",
   "name": "python",
   "nbconvert_exporter": "python",
   "pygments_lexer": "ipython3",
   "version": "3.6.2"
  },
  "orig_nbformat": 2,
  "kernelspec": {
   "name": "python362jvsc74a57bd091dc806a93bd22fd3c4eada8e047f4cb98e7654e243f3a256f4815c46af6dafb",
   "display_name": "Python 3.6.2 64-bit ('shims': pyenv)"
  },
  "metadata": {
   "interpreter": {
    "hash": "91dc806a93bd22fd3c4eada8e047f4cb98e7654e243f3a256f4815c46af6dafb"
   }
  }
 },
 "nbformat": 4,
 "nbformat_minor": 2,
 "cells": [
  {
   "source": [
    "#  Map Model\n",
    "In this notebook we are going to train an aerial image classification model."
   ],
   "cell_type": "markdown",
   "metadata": {}
  },
  {
   "cell_type": "code",
   "execution_count": null,
   "metadata": {},
   "outputs": [],
   "source": [
    "import warnings\n",
    "warnings.filterwarnings('ignore')"
   ]
  }
 ]
}